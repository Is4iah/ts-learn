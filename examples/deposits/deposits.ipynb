{
 "cells": [
  {
   "attachments": {},
   "cell_type": "markdown",
   "metadata": {},
   "source": [
    "### ***Collect Data***\n",
    "\n",
    "* we will be importing the data in from FRED and we will be using `Total Deposits` (DPSACBM027NBOG)"
   ]
  },
  {
   "attachments": {},
   "cell_type": "markdown",
   "metadata": {},
   "source": [
    "### ***Decomposition of personal savings into trend, seasonal and irregular components***\n",
    "\n",
    "$$S_{t}= trend + seasonal + cyclical + irregularity$$\n",
    "\n",
    "To be able to make forecast for the data, we must transform it into a stationary time series. This is done by removing the trend and seasonal components. \n",
    "- The `trend` component is removed by applying a transformation that dampens the trend. \n",
    "- The `seasonal` component is removed by applying a transformation that dampens the seasonal component. \n",
    "- The `irregular` component is removed by applying a transformation that dampens the irregular component. \n",
    "- The `cyclical` component is removed by applying a transformation that dampens the cyclical component.\n",
    "\n",
    "Our **GOAL** is to have a clearer signal: Identifying and removing anything but the irregular component from the time series can result in a clearer relationship between input and output variables.\n",
    "\n"
   ]
  },
  {
   "cell_type": "code",
   "execution_count": null,
   "metadata": {},
   "outputs": [],
   "source": [
    "from fredapi import Fred\n",
    "import plotly.graph_objects as go #used for data visualization\n",
    "import pandas as pd\n",
    "\n",
    "fred = Fred(api_key='0e929d96cfbf2133c9a346a74670f033')\n",
    "df = pd.DataFrame(fred.get_series('DPSACBW027NBOG')).reset_index()\n",
    "\n",
    "# renaming columns\n",
    "df.columns = ['report_date', 'total_deposits']\n",
    "\n",
    "# only include dates from 2017+ \n",
    "df = df[df['report_date'] >= '2017-01-01']\n",
    "\n",
    "# visualizing \n",
    "fig = go.Figure()\n",
    "fig.add_trace(go.Scatter(x=df['report_date'], y=df['total_deposits'], name='Total Deposits'))"
   ]
  },
  {
   "attachments": {},
   "cell_type": "markdown",
   "metadata": {},
   "source": [
    "### ***Trend component***\n",
    " Currently form: $$ S_{t} = trend + seasonal + cyclical + irregularity$$\n",
    " Goal form: $$ S_{t} = seasonal + cyclical + irregularity$$\n",
    "To remove the trend from the data, we take a moving average of the data and remove it from the raw data. This will remove the long term pattern from the data and we will be left with the seasonal, cyclical and irregular components."
   ]
  },
  {
   "cell_type": "code",
   "execution_count": null,
   "metadata": {},
   "outputs": [],
   "source": [
    "\"\"\" Method 1 - Moving Average \"\"\"\n",
    "\n",
    "# get moving average for past 2 observations (weeks) not including current observation\n",
    "df['ma'] = df['total_deposits'].shift(1).rolling(window=24).mean()\n",
    "\n",
    "# remove the first observation since it will be null\n",
    "df = df.dropna()\n",
    "\n",
    "# difference between current observation and moving average\n",
    "df['total_deposits_detrended_ma'] = df['total_deposits'] - df['ma']\n",
    "\n",
    "# visualizing\n",
    "fig = go.Figure()\n",
    "fig.add_trace(go.Scatter(x=df['report_date'], y=df['total_deposits_detrended_ma'], name='Total Deposits Detrended (ma)'))\n",
    "fig.add_trace(go.Scatter(x=df['report_date'], y=df['ma'], name='Moving Average'))\n",
    "fig.add_trace(go.Scatter(x=df['report_date'], y=df['total_deposits'], name='Total Deposits'))\n"
   ]
  },
  {
   "cell_type": "code",
   "execution_count": null,
   "metadata": {},
   "outputs": [],
   "source": [
    "\"\"\" Method 2 - Differencing (Random Walk) \"\"\"\n",
    "\n",
    "df['total_deposits_detrended_diff'] = df['total_deposits'].diff(periods=1)\n",
    "\n",
    "# visualizing\n",
    "fig = go.Figure()\n",
    "fig.add_trace(go.Scatter(x=df['report_date'], y=df['total_deposits_detrended_diff'], name='Total Deposits Detrended (diff)'))\n",
    "fig.add_trace(go.Scatter(x=df['report_date'], y=df['total_deposits'], name='Total Deposits'))"
   ]
  },
  {
   "attachments": {},
   "cell_type": "markdown",
   "metadata": {},
   "source": [
    "\n",
    "This will remove the long term pattern from the data and we will be left with the seasonal, cyclical and irregular components.\n",
    "\n",
    "Now our data is of form:\n",
    "$$S_{t}= seasonal + cyclical + irregularity$$\n",
    "\n",
    "### ***Seasonal component***"
   ]
  },
  {
   "attachments": {},
   "cell_type": "markdown",
   "metadata": {},
   "source": [
    " Currently form: $$ S_{t} = trend + seasonal + cyclical + irregularity$$\n",
    " Goal form: $$ S_{t} = trend + cyclical + irregularity$$\n",
    "To remove the seasonal component from the data, we will use statsmodels seasonal_decompose function. This will remove the seasonal component from the data and we will be left with the trend, cyclical and irregular components."
   ]
  },
  {
   "cell_type": "code",
   "execution_count": null,
   "metadata": {},
   "outputs": [],
   "source": [
    "\"\"\" method 1: use statsmodels \"\"\"\n",
    "\n",
    "import pandas as pd\n",
    "from statsmodels.tsa.seasonal import seasonal_decompose\n",
    "\n",
    "# Assuming you have already loaded your DataFrame df\n",
    "# df['date'] = pd.to_datetime(df['report_date'])\n",
    "# df.set_index('date', inplace=True)\n",
    "\n",
    "result = seasonal_decompose(df['total_deposits'], model='additive', period=12)\n",
    "# period = 7 if we suspect a weekly cycle\n",
    "# period = 1 if we suspect a monthly cycle\n",
    "# period = 4 if we suspect a quarterly cycle\n",
    "# period = 12 if we suspect an annual cycle\n",
    "\n",
    "df['seasonal'] = result.seasonal\n",
    "\n",
    "df['total_deposits_sa'] = df['total_deposits'] - df['seasonal']\n",
    "\n",
    "# detrended using R.W and then seasonally adjusted\n",
    "df['total_deposits_sa_detrended_diff'] = df['total_deposits_detrended_diff'] - df['seasonal']\n",
    "\n",
    "# detrended using moving average and then seasonally adjusted\n",
    "df['total_deposits_sa_detrended_ma'] = df['total_deposits_detrended_ma'] - df['seasonal']\n",
    "\n",
    "fig = go.Figure()\n",
    "fig.update_layout(title='Total Deposits (SA)')\n",
    "# fig.add_trace(go.Scatter(x=df['report_date'], y=df['total_deposits'], name='Total Deposits'))\n",
    "fig.add_trace(go.Scatter(x=df['report_date'], y=df['seasonal'], name='Seasonal Component'))\n",
    "fig.add_trace(go.Scatter(x=df['report_date'], y=df['total_deposits_sa'], name='Total Deposits (SA)'))"
   ]
  },
  {
   "attachments": {},
   "cell_type": "markdown",
   "metadata": {},
   "source": [
    "### ***Visualizations***"
   ]
  },
  {
   "cell_type": "code",
   "execution_count": null,
   "metadata": {},
   "outputs": [],
   "source": [
    "fig = go.Figure()\n",
    "fig.update_layout(title='Original')\n",
    "fig.add_trace(go.Scatter(x=df['report_date'], y=df['total_deposits'], name='Total Deposits'))\n",
    "fig.show()\n",
    "\n",
    "fig2 = go.Figure()\n",
    "fig2.update_layout(title='Trend')\n",
    "fig2.add_trace(go.Scatter(x=df['report_date'], y=df['total_deposits'], name='Total Deposits'))\n",
    "fig2.add_trace(go.Scatter(x=df['report_date'], y=df['ma'], name='Moving Average'))\n",
    "fig2.add_trace(go.Scatter(x=df['report_date'], y=df['total_deposits_detrended_diff'], name='Total Deposits Detrended (diff)'))\n",
    "fig2.show()\n",
    "\n",
    "fig3 = go.Figure()\n",
    "fig3.update_layout(title='Seasonal')\n",
    "fig3.add_trace(go.Scatter(x=df['report_date'], y=df['seasonal'], name='seasonal component'))\n",
    "fig3.show()\n",
    "\n",
    "fig4 = go.Figure()\n",
    "fig4.update_layout(title='Residual')\n",
    "fig4.add_trace(go.Scatter(x=df['report_date'], y=df['total_deposits_sa_detrended_diff'], name='Total Deposits (SA) Detrended'))\n",
    "fig4.show()"
   ]
  },
  {
   "attachments": {},
   "cell_type": "markdown",
   "metadata": {},
   "source": [
    "### ***Cyclical component***\n",
    "\n",
    " Currently form: $$ S_{t} = trend + seasonal + cyclical + irregularity$$\n",
    " Goal form: $$ S_{t} = trend + seasonal + irregularity$$"
   ]
  },
  {
   "attachments": {},
   "cell_type": "markdown",
   "metadata": {},
   "source": [
    "### ACF TEST"
   ]
  },
  {
   "cell_type": "code",
   "execution_count": null,
   "metadata": {},
   "outputs": [],
   "source": [
    "from statsmodels.graphics.tsaplots import plot_acf\n",
    "\n",
    "dff = df.dropna()\n",
    "\n",
    "plot_acf(dff['total_deposits_sa_detrended_diff'], lags=30)\n",
    "\n",
    "plot_acf(dff['total_deposits_sa_detrended_ma']) \n",
    "\n",
    "# how do we get lags from this?\n",
    "\n",
    "# what model should we use?"
   ]
  },
  {
   "attachments": {},
   "cell_type": "markdown",
   "metadata": {},
   "source": [
    "bc moving avg we are calculating 24 weeks, so the diff btw each week is going to matter less -> smoooth acf\n",
    "\n",
    "dff-> only acct for diff between 2 weeks so diff is the only thing that matters -> ratical acf changes"
   ]
  }
 ],
 "metadata": {
  "kernelspec": {
   "display_name": "lobster",
   "language": "python",
   "name": "python3"
  },
  "language_info": {
   "codemirror_mode": {
    "name": "ipython",
    "version": 3
   },
   "file_extension": ".py",
   "mimetype": "text/x-python",
   "name": "python",
   "nbconvert_exporter": "python",
   "pygments_lexer": "ipython3",
   "version": "3.9.18"
  },
  "orig_nbformat": 4
 },
 "nbformat": 4,
 "nbformat_minor": 2
}
