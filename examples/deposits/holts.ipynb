{
 "cells": [
  {
   "cell_type": "markdown",
   "metadata": {},
   "source": [
    "# Import data"
   ]
  },
  {
   "cell_type": "code",
   "execution_count": null,
   "metadata": {},
   "outputs": [],
   "source": [
    "from fredapi import Fred\n",
    "import plotly.graph_objects as go #used for data visualization\n",
    "import pandas as pd\n",
    "from statsmodels.tsa.seasonal import seasonal_decompose\n",
    "\n",
    "fred = Fred(api_key='0e929d96cfbf2133c9a346a74670f033')\n",
    "df = pd.DataFrame(fred.get_series('DPSACBW027NBOG')).reset_index()\n",
    "\n",
    "# renaming columns\n",
    "df.columns = ['report_date', 'val']\n",
    "\n",
    "# only include dates from 2017+ \n",
    "df = df[df['report_date'] >= '2017-01-01']\n",
    "\n",
    "# visualizing \n",
    "fig = go.Figure()\n",
    "fig.add_trace(go.Scatter(x=df['report_date'], y=df['val'], name='Total Deposits'))"
   ]
  },
  {
   "cell_type": "markdown",
   "metadata": {},
   "source": [
    "In order to use holts, we need to remove the seasonal and trend components of the data.\n",
    "* To remove the trend, we will difference the data.\n",
    "* To remove the seasonal component, we will use fourier series.\n",
    "    * 2 ways of Seasonally adjusting the data:\n",
    "        1. removing the seasonal component from the original data\n",
    "        2. removing the seasonal component from the differenced data"
   ]
  },
  {
   "cell_type": "code",
   "execution_count": null,
   "metadata": {},
   "outputs": [],
   "source": [
    "# REMOVE TREND by differencing\n",
    "df['val change'] = df['val'].diff()\n",
    "\n",
    "# REMOVE SEASONALITY by seasonal decomposing the data\n",
    "result = seasonal_decompose(df['val'], model='additive', period=52)\n",
    "\n",
    "result2 = seasonal_decompose(df['val change'].dropna(), model='additive', period=52)\n",
    "\n",
    "df['seasonal_1'] = result.seasonal\n",
    "df['seasonal_2'] = result2.seasonal\n",
    "\n",
    "df['val change (SA1)'] = df['val change'] - df['seasonal_1']\n",
    "df['val change (SA2)'] = df['val change'] - df['seasonal_2']\n",
    "\n",
    "# dropna values\n",
    "df = df.dropna()\n",
    "df"
   ]
  },
  {
   "cell_type": "markdown",
   "metadata": {},
   "source": [
    "# Simple Exponential Smoothing"
   ]
  },
  {
   "cell_type": "code",
   "execution_count": null,
   "metadata": {},
   "outputs": [],
   "source": [
    "import matplotlib.pyplot as plt\n",
    "import pandas as pd\n",
    "from datetime import timedelta\n",
    "from tslearn.models import SES\n",
    "\n",
    "\n",
    "# Create an instance of ExponentialSmoothing\n",
    "model = SES(df, df['val change (SA1)'], trend='add', seasonal='add', seasonal_periods=12)\n",
    "\n",
    "# fit = model.fit()\n",
    "\n",
    "# forecast_values = fit.forecast(steps=12)\n",
    "\n",
    "# # Convert forecasted values to a DataFrame and reset the index\n",
    "# forecast_values_df = pd.DataFrame(forecast_values).reset_index()\n",
    "\n",
    "# # Rename columns and add the 'report_date' column\n",
    "# forecast_values_df.columns = ['index', 'val']\n",
    "# forecast_values_df['report_date'] = pd.date_range(start=df['report_date'].max(), periods=len(forecast_values_df), freq='W')\n",
    "\n",
    "# # Reorder columns to have 'report_date' and 'val'\n",
    "# forecast_values_df = forecast_values_df[['report_date', 'val']]\n",
    "\n",
    "# # Display the DataFrame\n",
    "# forecast_values_df\n",
    "\n",
    "# forecast_values\n",
    "# model.get_df()\n",
    "\n",
    "model.forecast(steps=12)"
   ]
  },
  {
   "cell_type": "code",
   "execution_count": null,
   "metadata": {},
   "outputs": [],
   "source": []
  }
 ],
 "metadata": {
  "kernelspec": {
   "display_name": "tsenv",
   "language": "python",
   "name": "python3"
  },
  "language_info": {
   "codemirror_mode": {
    "name": "ipython",
    "version": 3
   },
   "file_extension": ".py",
   "mimetype": "text/x-python",
   "name": "python",
   "nbconvert_exporter": "python",
   "pygments_lexer": "ipython3",
   "version": "3.9.18"
  }
 },
 "nbformat": 4,
 "nbformat_minor": 2
}
